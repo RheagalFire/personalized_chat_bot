{
 "cells": [
  {
   "cell_type": "code",
   "execution_count": 1,
   "id": "7735e47b",
   "metadata": {},
   "outputs": [],
   "source": [
    "import os"
   ]
  },
  {
   "cell_type": "code",
   "execution_count": 4,
   "id": "a956d7a8",
   "metadata": {},
   "outputs": [],
   "source": [
    "import openai\n",
    "embed_model = \"text-embedding-ada-002\"\n",
    "query = \"Food Preferences\"\n",
    "res = openai.Embedding.create(\n",
    "    input=[query],\n",
    "    engine=embed_model\n",
    ")"
   ]
  },
  {
   "cell_type": "code",
   "execution_count": 9,
   "id": "9a9d8f09",
   "metadata": {},
   "outputs": [
    {
     "data": {
      "text/plain": [
       "{'dimension': 1536,\n",
       " 'index_fullness': 0.0,\n",
       " 'namespaces': {'index_1': {'vector_count': 3674}},\n",
       " 'total_vector_count': 3674}"
      ]
     },
     "execution_count": 9,
     "metadata": {},
     "output_type": "execute_result"
    }
   ],
   "source": [
    "import pinecone\n",
    "index_name = 'personalized-bot'\n",
    "pinecone_api_key= # place your key here\n",
    "pinecone.init(\n",
    "    api_key=pinecone_api_key,  # app.pinecone.io (console)\n",
    "    environment=\"eu-west1-gcp\"  # next to API key in console\n",
    ")\n",
    "index = pinecone.Index(index_name)\n",
    "# view index stats\n",
    "index.describe_index_stats()"
   ]
  },
  {
   "cell_type": "code",
   "execution_count": 10,
   "id": "b45e64a9",
   "metadata": {},
   "outputs": [],
   "source": [
    "xq = res['data'][0]['embedding']\n",
    "# get relevant contexts (including the questions)\n",
    "result = index.query(xq, top_k=10, include_metadata=True,namespace='index_1')"
   ]
  },
  {
   "cell_type": "code",
   "execution_count": 11,
   "id": "04e5c16a",
   "metadata": {},
   "outputs": [
    {
     "data": {
      "text/plain": [
       "{'matches': [{'id': '1604',\n",
       "              'metadata': {'text': 'prady: .. aarish:  share some photos '\n",
       "                                   'favourite food maybe talk about them'},\n",
       "              'score': 0.790762544,\n",
       "              'values': []},\n",
       "             {'id': '3438',\n",
       "              'metadata': {'text': 'prady: watermelon mojito. aarish:  '},\n",
       "              'score': 0.774868429,\n",
       "              'values': []},\n",
       "             {'id': '1756',\n",
       "              'metadata': {'text': 'prady: bohot din ho gya kuch acha khaaye.. '\n",
       "                                   'aarish:  zomato'},\n",
       "              'score': 0.772992492,\n",
       "              'values': []},\n",
       "             {'id': '3334',\n",
       "              'metadata': {'text': 'prady: eat???. aarish:  evening? 7 ?'},\n",
       "              'score': 0.769527316,\n",
       "              'values': []},\n",
       "             {'id': '2989',\n",
       "              'metadata': {'text': 'prady: kaisa hai restaurant?. aarish:  '\n",
       "                                   'acha hai par pure veg hai'},\n",
       "              'score': 0.766430318,\n",
       "              'values': []},\n",
       "             {'id': '1755',\n",
       "              'metadata': {'text': 'prady: chicken biryani pack krwa tiffin '\n",
       "                                   'mein. aarish:  haan pack karwa k freeze '\n",
       "                                   'mein rakh dunga phir 1 hafte tak khaunga'},\n",
       "              'score': 0.763064444,\n",
       "              'values': []},\n",
       "             {'id': '3152',\n",
       "              'metadata': {'text': 'prady: saale thuss le sab. aarish:  bhai '\n",
       "                                   'bread hai snaks and bread ghar jaake '\n",
       "                                   'bhejunga'},\n",
       "              'score': 0.76298362,\n",
       "              'values': []},\n",
       "             {'id': '124',\n",
       "              'metadata': {'text': 'prady: nashta me bhi dahi roti se jyada '\n",
       "                                   'kuch ni milra. aarish:  mere ghar aa sakta '\n",
       "                                   'hai toh aaja sandwich khaya mein'},\n",
       "              'score': 0.757502258,\n",
       "              'values': []},\n",
       "             {'id': '1386',\n",
       "              'metadata': {'text': 'prady: hu. aarish:  10 baje k baad milte '\n",
       "                                   'hein phir mein khana khane jaaara phir '\n",
       "                                   'nani ghar jaunga'},\n",
       "              'score': 0.75700742,\n",
       "              'values': []},\n",
       "             {'id': '1334',\n",
       "              'metadata': {'text': 'prady: juice?. aarish:  ice cream hungama '\n",
       "                                   'and juice ek kaam karte hein hungama '\n",
       "                                   'chalte hein uske bday k din vahan p offer '\n",
       "                                   'bhi rehta hai na'},\n",
       "              'score': 0.756710768,\n",
       "              'values': []}],\n",
       " 'namespace': 'index_1'}"
      ]
     },
     "execution_count": 11,
     "metadata": {},
     "output_type": "execute_result"
    }
   ],
   "source": [
    "result"
   ]
  },
  {
   "cell_type": "code",
   "execution_count": null,
   "id": "3dd4cde4",
   "metadata": {},
   "outputs": [],
   "source": []
  }
 ],
 "metadata": {
  "kernelspec": {
   "display_name": "Python 3 (ipykernel)",
   "language": "python",
   "name": "python3"
  },
  "language_info": {
   "codemirror_mode": {
    "name": "ipython",
    "version": 3
   },
   "file_extension": ".py",
   "mimetype": "text/x-python",
   "name": "python",
   "nbconvert_exporter": "python",
   "pygments_lexer": "ipython3",
   "version": "3.9.7"
  }
 },
 "nbformat": 4,
 "nbformat_minor": 5
}
