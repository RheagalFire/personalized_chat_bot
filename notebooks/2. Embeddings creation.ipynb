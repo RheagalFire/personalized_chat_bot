{
 "cells": [
  {
   "cell_type": "code",
   "execution_count": 1,
   "id": "495a7493",
   "metadata": {},
   "outputs": [],
   "source": [
    "# We cleaned the data let us read it here now."
   ]
  },
  {
   "cell_type": "code",
   "execution_count": 5,
   "id": "a70d69a6",
   "metadata": {},
   "outputs": [],
   "source": [
    "import os\n",
    "import pandas as pd\n",
    "data_path = '../data'\n",
    "filename = \"text_fields.csv\"\n",
    "fpath_input = os.path.join(data_path,filename)\n",
    "df = pd.read_csv(fpath_input)"
   ]
  },
  {
   "cell_type": "code",
   "execution_count": 28,
   "id": "7fc5f6f1",
   "metadata": {},
   "outputs": [],
   "source": [
    "# !pip install openai\n",
    "# import openai\n",
    "import openai\n",
    "# initialize openai API key\n",
    "openai.api_key =  #platform.openai.com\n",
    "# Initialize an embedding model\n",
    "embed_model = \"text-embedding-ada-002\""
   ]
  },
  {
   "cell_type": "code",
   "execution_count": 21,
   "id": "58941cb3",
   "metadata": {},
   "outputs": [
    {
     "name": "stderr",
     "output_type": "stream",
     "text": [
      "0it [00:42, ?it/s]\n",
      "\n",
      "KeyboardInterrupt\n",
      "\n"
     ]
    }
   ],
   "source": [
    "# lets create embeddings for these chats\n",
    "from time import sleep\n",
    "from tqdm import tqdm\n",
    "embeddings = []\n",
    "for i in tqdm(df.itertuples()):\n",
    "    texts = i.text_field\n",
    "    try:\n",
    "        res = openai.Embedding.create(input=texts, engine=embed_model)\n",
    "    except:\n",
    "        done = False\n",
    "        while not done:\n",
    "            sleep(5)\n",
    "            try:\n",
    "                res = openai.Embedding.create(input=texts, engine=embed_model)\n",
    "                done = True\n",
    "            except:\n",
    "                pass\n",
    "    embeddings.append(res)"
   ]
  },
  {
   "cell_type": "code",
   "execution_count": null,
   "id": "77f1416b",
   "metadata": {},
   "outputs": [],
   "source": [
    "# use this to dump the chat encodings file\n",
    "import pickle\n",
    "with open('chat_embeddings.pkl', 'wb') as file:\n",
    "    # A new file will be created\n",
    "    pickle.dump(embeddings, file)"
   ]
  }
 ],
 "metadata": {
  "kernelspec": {
   "display_name": "Python 3 (ipykernel)",
   "language": "python",
   "name": "python3"
  },
  "language_info": {
   "codemirror_mode": {
    "name": "ipython",
    "version": 3
   },
   "file_extension": ".py",
   "mimetype": "text/x-python",
   "name": "python",
   "nbconvert_exporter": "python",
   "pygments_lexer": "ipython3",
   "version": "3.9.7"
  }
 },
 "nbformat": 4,
 "nbformat_minor": 5
}
