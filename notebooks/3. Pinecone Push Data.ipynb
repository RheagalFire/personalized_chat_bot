{
 "cells": [
  {
   "cell_type": "code",
   "execution_count": 1,
   "id": "ef561ab5",
   "metadata": {},
   "outputs": [],
   "source": [
    "import inspect\n",
    "\n",
    "from getpass import getpass\n",
    "from langchain import OpenAI\n",
    "from langchain.chains import LLMChain, ConversationChain\n",
    "from langchain.chains.conversation.memory import (ConversationBufferMemory, \n",
    "                                                  ConversationSummaryMemory, \n",
    "                                                  ConversationBufferWindowMemory,\n",
    "                                                  ConversationKGMemory)\n",
    "from langchain.callbacks import get_openai_callback\n",
    "import tiktoken\n",
    "import pickle\n",
    "import os\n",
    "import pandas as pd"
   ]
  },
  {
   "cell_type": "code",
   "execution_count": 5,
   "id": "4a882f52",
   "metadata": {},
   "outputs": [],
   "source": [
    "data_path = '../data'\n",
    "filepath = os.path.join(data_path,'chat_embeddings.pkl')\n",
    "with open(filepath,'rb') as file:\n",
    "    # A new file will be created\n",
    "    chat_embeddings = pickle.load(file)"
   ]
  },
  {
   "cell_type": "code",
   "execution_count": 7,
   "id": "96b5170b",
   "metadata": {},
   "outputs": [
    {
     "data": {
      "text/plain": [
       "1536"
      ]
     },
     "execution_count": 7,
     "metadata": {},
     "output_type": "execute_result"
    }
   ],
   "source": [
    "# Check the length of the embedding files\n",
    "len(chat_embeddings[0]['data'][0]['embedding'])"
   ]
  },
  {
   "cell_type": "code",
   "execution_count": 12,
   "id": "479153a2",
   "metadata": {},
   "outputs": [
    {
     "name": "stderr",
     "output_type": "stream",
     "text": [
      "C:\\Users\\arish\\AppData\\Roaming\\pypoetry\\venv\\lib\\site-packages\\pinecone\\index.py:4: TqdmExperimentalWarning: Using `tqdm.autonotebook.tqdm` in notebook mode. Use `tqdm.tqdm` instead to force console mode (e.g. in jupyter console)\n",
      "  from tqdm.autonotebook import tqdm\n"
     ]
    }
   ],
   "source": [
    "import pinecone\n",
    "pinecone_api_key= # place your key here\n",
    "# initialize connection to pinecone\n",
    "pinecone.init(\n",
    "    api_key=pinecone_api_key,  # app.pinecone.io (console)\n",
    "    environment=\"eu-west1-gcp\"  # next to API key in console\n",
    ")\n",
    "# check if index already exists (it shouldn't if this is first time)"
   ]
  },
  {
   "cell_type": "code",
   "execution_count": 14,
   "id": "d17e3fe9",
   "metadata": {},
   "outputs": [],
   "source": [
    "index_name = 'personalized-bot'\n",
    "if index_name not in pinecone.list_indexes():\n",
    "    # if does not exist, create index\n",
    "    pinecone.create_index(\n",
    "        index_name,\n",
    "        dimension=len(chat_embeddings[0]['data'][0]['embedding']),\n",
    "        metric='dotproduct'\n",
    "    )"
   ]
  },
  {
   "cell_type": "code",
   "execution_count": 33,
   "id": "63007bd0",
   "metadata": {},
   "outputs": [
    {
     "data": {
      "text/plain": [
       "{'dimension': 1536,\n",
       " 'index_fullness': 0.0,\n",
       " 'namespaces': {},\n",
       " 'total_vector_count': 0}"
      ]
     },
     "execution_count": 33,
     "metadata": {},
     "output_type": "execute_result"
    }
   ],
   "source": [
    "index = pinecone.Index(index_name)\n",
    "# view index stats\n",
    "index.describe_index_stats()"
   ]
  },
  {
   "cell_type": "code",
   "execution_count": 20,
   "id": "197e79e3",
   "metadata": {},
   "outputs": [],
   "source": [
    "filename = 'text_fields.csv'\n",
    "df = pd.read_csv(os.path.join(data_path,filename))"
   ]
  },
  {
   "cell_type": "code",
   "execution_count": 22,
   "id": "fc1ed6ad",
   "metadata": {},
   "outputs": [
    {
     "data": {
      "text/html": [
       "<div>\n",
       "<style scoped>\n",
       "    .dataframe tbody tr th:only-of-type {\n",
       "        vertical-align: middle;\n",
       "    }\n",
       "\n",
       "    .dataframe tbody tr th {\n",
       "        vertical-align: top;\n",
       "    }\n",
       "\n",
       "    .dataframe thead th {\n",
       "        text-align: right;\n",
       "    }\n",
       "</style>\n",
       "<table border=\"1\" class=\"dataframe\">\n",
       "  <thead>\n",
       "    <tr style=\"text-align: right;\">\n",
       "      <th></th>\n",
       "      <th>text_field</th>\n",
       "    </tr>\n",
       "  </thead>\n",
       "  <tbody>\n",
       "    <tr>\n",
       "      <th>0</th>\n",
       "      <td>prady: aj kuch krna hai kya. aarish:  aaja ghar</td>\n",
       "    </tr>\n",
       "    <tr>\n",
       "      <th>1</th>\n",
       "      <td>prady: deepanshu?. aarish:  chlega ayga meko l...</td>\n",
       "    </tr>\n",
       "    <tr>\n",
       "      <th>2</th>\n",
       "      <td>prady: pubg?. aarish:  kal khelengr</td>\n",
       "    </tr>\n",
       "    <tr>\n",
       "      <th>3</th>\n",
       "      <td>prady: 30 min bs. aarish:  thik hai aaja. ayga...</td>\n",
       "    </tr>\n",
       "    <tr>\n",
       "      <th>4</th>\n",
       "      <td>prady: mai ghum hi ra tha us area me. aarish: ...</td>\n",
       "    </tr>\n",
       "    <tr>\n",
       "      <th>...</th>\n",
       "      <td>...</td>\n",
       "    </tr>\n",
       "    <tr>\n",
       "      <th>3669</th>\n",
       "      <td>prady: bas. aarish:  functional ke andar ivy v...</td>\n",
       "    </tr>\n",
       "    <tr>\n",
       "      <th>3670</th>\n",
       "      <td>prady: functional api hai. aarish:  m toh sirf...</td>\n",
       "    </tr>\n",
       "    <tr>\n",
       "      <th>3671</th>\n",
       "      <td>prady: bol bhai. aarish:  aaja meet mein</td>\n",
       "    </tr>\n",
       "    <tr>\n",
       "      <th>3672</th>\n",
       "      <td>prady: ???. aarish:  aana hackathon ka thoda k...</td>\n",
       "    </tr>\n",
       "    <tr>\n",
       "      <th>3673</th>\n",
       "      <td>prady: ruk jaa 10 min mein aata hu. aarish:  ok</td>\n",
       "    </tr>\n",
       "  </tbody>\n",
       "</table>\n",
       "<p>3674 rows × 1 columns</p>\n",
       "</div>"
      ],
      "text/plain": [
       "                                             text_field\n",
       "0       prady: aj kuch krna hai kya. aarish:  aaja ghar\n",
       "1     prady: deepanshu?. aarish:  chlega ayga meko l...\n",
       "2                   prady: pubg?. aarish:  kal khelengr\n",
       "3     prady: 30 min bs. aarish:  thik hai aaja. ayga...\n",
       "4     prady: mai ghum hi ra tha us area me. aarish: ...\n",
       "...                                                 ...\n",
       "3669  prady: bas. aarish:  functional ke andar ivy v...\n",
       "3670  prady: functional api hai. aarish:  m toh sirf...\n",
       "3671          prady: bol bhai. aarish:  aaja meet mein \n",
       "3672  prady: ???. aarish:  aana hackathon ka thoda k...\n",
       "3673    prady: ruk jaa 10 min mein aata hu. aarish:  ok\n",
       "\n",
       "[3674 rows x 1 columns]"
      ]
     },
     "execution_count": 22,
     "metadata": {},
     "output_type": "execute_result"
    }
   ],
   "source": [
    "df"
   ]
  },
  {
   "cell_type": "code",
   "execution_count": 23,
   "id": "a8815f00",
   "metadata": {},
   "outputs": [],
   "source": [
    "vectors= []\n",
    "for vector in chat_embeddings:\n",
    "    vectors.append(vector['data'][0]['embedding'])"
   ]
  },
  {
   "cell_type": "code",
   "execution_count": 24,
   "id": "743e9645",
   "metadata": {},
   "outputs": [],
   "source": [
    "text = df['text_field'].values\n",
    "meta_batch = [{\n",
    "        'text': x} for x in df['text_field'].values]\n",
    "df['vector_id'] = df.index\n",
    "df['vector_id'] = df['vector_id'].apply(str)\n",
    "ids = (df['vector_id'].values)"
   ]
  },
  {
   "cell_type": "code",
   "execution_count": 31,
   "id": "78614848",
   "metadata": {},
   "outputs": [],
   "source": [
    "from typing import Iterator\n",
    "import numpy as np\n",
    "class BatchGenerator:\n",
    "    \"\"\" Models a simple batch generator that make chunks out of an input DataFrame. \"\"\"\n",
    "    \n",
    "    def __init__(self, batch_size: int = 10) -> None:\n",
    "        self.batch_size = batch_size\n",
    "    \n",
    "    def to_batches(self, df: pd.DataFrame) -> Iterator[pd.DataFrame]:\n",
    "        \"\"\" Makes chunks out of an input DataFrame. \"\"\"\n",
    "        splits = self.splits_num(df.shape[0])\n",
    "        if splits <= 1:\n",
    "            yield df\n",
    "        else:\n",
    "            for chunk in np.array_split(df, splits):\n",
    "                yield chunk\n",
    "    \n",
    "    def splits_num(self, elements: int) -> int:\n",
    "        \"\"\" Determines how many chunks DataFrame contians. \"\"\"\n",
    "        return round(elements / self.batch_size)\n",
    "    \n",
    "    __call__ = to_batches\n",
    "\n",
    "df_batcher = BatchGenerator(300)"
   ]
  },
  {
   "cell_type": "code",
   "execution_count": 27,
   "id": "db664d07",
   "metadata": {},
   "outputs": [],
   "source": [
    "df['vector_embeddings'] = vectors"
   ]
  },
  {
   "cell_type": "code",
   "execution_count": 28,
   "id": "c1959f32",
   "metadata": {},
   "outputs": [
    {
     "data": {
      "text/html": [
       "<div>\n",
       "<style scoped>\n",
       "    .dataframe tbody tr th:only-of-type {\n",
       "        vertical-align: middle;\n",
       "    }\n",
       "\n",
       "    .dataframe tbody tr th {\n",
       "        vertical-align: top;\n",
       "    }\n",
       "\n",
       "    .dataframe thead th {\n",
       "        text-align: right;\n",
       "    }\n",
       "</style>\n",
       "<table border=\"1\" class=\"dataframe\">\n",
       "  <thead>\n",
       "    <tr style=\"text-align: right;\">\n",
       "      <th></th>\n",
       "      <th>text_field</th>\n",
       "      <th>vector_id</th>\n",
       "      <th>vector_embeddings</th>\n",
       "    </tr>\n",
       "  </thead>\n",
       "  <tbody>\n",
       "    <tr>\n",
       "      <th>0</th>\n",
       "      <td>prady: aj kuch krna hai kya. aarish:  aaja ghar</td>\n",
       "      <td>0</td>\n",
       "      <td>[0.021390901878476143, -0.02353258803486824, -...</td>\n",
       "    </tr>\n",
       "    <tr>\n",
       "      <th>1</th>\n",
       "      <td>prady: deepanshu?. aarish:  chlega ayga meko l...</td>\n",
       "      <td>1</td>\n",
       "      <td>[0.01264501828700304, -0.024169592186808586, -...</td>\n",
       "    </tr>\n",
       "    <tr>\n",
       "      <th>2</th>\n",
       "      <td>prady: pubg?. aarish:  kal khelengr</td>\n",
       "      <td>2</td>\n",
       "      <td>[0.014415320008993149, -0.018524296581745148, ...</td>\n",
       "    </tr>\n",
       "    <tr>\n",
       "      <th>3</th>\n",
       "      <td>prady: 30 min bs. aarish:  thik hai aaja. ayga...</td>\n",
       "      <td>3</td>\n",
       "      <td>[0.005870819091796875, -0.021560825407505035, ...</td>\n",
       "    </tr>\n",
       "    <tr>\n",
       "      <th>4</th>\n",
       "      <td>prady: mai ghum hi ra tha us area me. aarish: ...</td>\n",
       "      <td>4</td>\n",
       "      <td>[-0.004257076885551214, -0.02479679509997368, ...</td>\n",
       "    </tr>\n",
       "    <tr>\n",
       "      <th>...</th>\n",
       "      <td>...</td>\n",
       "      <td>...</td>\n",
       "      <td>...</td>\n",
       "    </tr>\n",
       "    <tr>\n",
       "      <th>3669</th>\n",
       "      <td>prady: bas. aarish:  functional ke andar ivy v...</td>\n",
       "      <td>3669</td>\n",
       "      <td>[0.012840365059673786, -0.005695781204849482, ...</td>\n",
       "    </tr>\n",
       "    <tr>\n",
       "      <th>3670</th>\n",
       "      <td>prady: functional api hai. aarish:  m toh sirf...</td>\n",
       "      <td>3670</td>\n",
       "      <td>[0.02033286541700363, -0.013291946612298489, -...</td>\n",
       "    </tr>\n",
       "    <tr>\n",
       "      <th>3671</th>\n",
       "      <td>prady: bol bhai. aarish:  aaja meet mein</td>\n",
       "      <td>3671</td>\n",
       "      <td>[-0.0020940264221280813, -0.026402940973639488...</td>\n",
       "    </tr>\n",
       "    <tr>\n",
       "      <th>3672</th>\n",
       "      <td>prady: ???. aarish:  aana hackathon ka thoda k...</td>\n",
       "      <td>3672</td>\n",
       "      <td>[0.00557997589930892, -0.02382233366370201, -0...</td>\n",
       "    </tr>\n",
       "    <tr>\n",
       "      <th>3673</th>\n",
       "      <td>prady: ruk jaa 10 min mein aata hu. aarish:  ok</td>\n",
       "      <td>3673</td>\n",
       "      <td>[-0.0022400233428925276, -0.039986975491046906...</td>\n",
       "    </tr>\n",
       "  </tbody>\n",
       "</table>\n",
       "<p>3674 rows × 3 columns</p>\n",
       "</div>"
      ],
      "text/plain": [
       "                                             text_field vector_id  \\\n",
       "0       prady: aj kuch krna hai kya. aarish:  aaja ghar         0   \n",
       "1     prady: deepanshu?. aarish:  chlega ayga meko l...         1   \n",
       "2                   prady: pubg?. aarish:  kal khelengr         2   \n",
       "3     prady: 30 min bs. aarish:  thik hai aaja. ayga...         3   \n",
       "4     prady: mai ghum hi ra tha us area me. aarish: ...         4   \n",
       "...                                                 ...       ...   \n",
       "3669  prady: bas. aarish:  functional ke andar ivy v...      3669   \n",
       "3670  prady: functional api hai. aarish:  m toh sirf...      3670   \n",
       "3671          prady: bol bhai. aarish:  aaja meet mein       3671   \n",
       "3672  prady: ???. aarish:  aana hackathon ka thoda k...      3672   \n",
       "3673    prady: ruk jaa 10 min mein aata hu. aarish:  ok      3673   \n",
       "\n",
       "                                      vector_embeddings  \n",
       "0     [0.021390901878476143, -0.02353258803486824, -...  \n",
       "1     [0.01264501828700304, -0.024169592186808586, -...  \n",
       "2     [0.014415320008993149, -0.018524296581745148, ...  \n",
       "3     [0.005870819091796875, -0.021560825407505035, ...  \n",
       "4     [-0.004257076885551214, -0.02479679509997368, ...  \n",
       "...                                                 ...  \n",
       "3669  [0.012840365059673786, -0.005695781204849482, ...  \n",
       "3670  [0.02033286541700363, -0.013291946612298489, -...  \n",
       "3671  [-0.0020940264221280813, -0.026402940973639488...  \n",
       "3672  [0.00557997589930892, -0.02382233366370201, -0...  \n",
       "3673  [-0.0022400233428925276, -0.039986975491046906...  \n",
       "\n",
       "[3674 rows x 3 columns]"
      ]
     },
     "execution_count": 28,
     "metadata": {},
     "output_type": "execute_result"
    }
   ],
   "source": [
    "df"
   ]
  },
  {
   "cell_type": "code",
   "execution_count": 34,
   "id": "e1e2989a",
   "metadata": {},
   "outputs": [],
   "source": [
    "# lets uspert the data using batches for better speed (note that the batch size set is 300)\n",
    "k = []\n",
    "for batch_df in df_batcher(df):\n",
    "    meta_batch = [{\n",
    "        \"text\": x} for x in batch_df['text_field'].values]\n",
    "    k.append(list(zip(batch_df.vector_id, batch_df.vector_embeddings,meta_batch)))\n",
    "    index.upsert(vectors=list(zip(batch_df.vector_id, batch_df.vector_embeddings,meta_batch)), namespace='index_1')"
   ]
  }
 ],
 "metadata": {
  "kernelspec": {
   "display_name": "Python 3 (ipykernel)",
   "language": "python",
   "name": "python3"
  },
  "language_info": {
   "codemirror_mode": {
    "name": "ipython",
    "version": 3
   },
   "file_extension": ".py",
   "mimetype": "text/x-python",
   "name": "python",
   "nbconvert_exporter": "python",
   "pygments_lexer": "ipython3",
   "version": "3.9.7"
  }
 },
 "nbformat": 4,
 "nbformat_minor": 5
}
